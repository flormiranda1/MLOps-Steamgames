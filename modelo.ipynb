{
 "cells": [
  {
   "cell_type": "code",
   "execution_count": 2,
   "metadata": {},
   "outputs": [],
   "source": [
    "import pandas as pd\n",
    "from sklearn.tree import DecisionTreeRegressor\n",
    "from sklearn.preprocessing import LabelEncoder\n",
    "import joblib\n",
    "from sklearn.model_selection import train_test_split\n",
    "\n",
    "# Cargo la data del dataframe que usamos para entrenar el modelo\n",
    "df_modelo_entrenado = pd.read_csv('df_modelo_entrenado.csv')\n",
    "\n",
    "\n",
    "# Entreno el modelo\n",
    "feature_cols = [\"early_access\",\"genres_encoded\",\"metascore\",\"año\"]\n",
    "X = df_modelo_entrenado[feature_cols]\n",
    "y = df_modelo_entrenado[\"price\"]\n",
    "\n",
    "X_train, X_test, y_train, y_test = train_test_split(X, y, test_size=0.20, random_state=42)\n",
    "\n",
    "tree_model = DecisionTreeRegressor(max_depth=20, min_samples_leaf=1, min_samples_split=2)\n",
    "\n",
    "tree_model.fit(X_train, y_train)\n",
    "\n",
    "y_train_pred = tree_model.predict(X_train)\n",
    "y_test_pred = tree_model.predict(X_test)\n"
   ]
  }
 ],
 "metadata": {
  "kernelspec": {
   "display_name": "Python 3",
   "language": "python",
   "name": "python3"
  },
  "language_info": {
   "codemirror_mode": {
    "name": "ipython",
    "version": 3
   },
   "file_extension": ".py",
   "mimetype": "text/x-python",
   "name": "python",
   "nbconvert_exporter": "python",
   "pygments_lexer": "ipython3",
   "version": "3.11.2"
  },
  "orig_nbformat": 4
 },
 "nbformat": 4,
 "nbformat_minor": 2
}
